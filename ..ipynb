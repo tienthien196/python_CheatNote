{
 "cells": [
  {
   "cell_type": "markdown",
   "id": "f37b24f6",
   "metadata": {},
   "source": []
  },
  {
   "cell_type": "code",
   "execution_count": 5,
   "id": "3de0968d",
   "metadata": {},
   "outputs": [
    {
     "name": "stdout",
     "output_type": "stream",
     "text": [
      "=== Máy tính đơn giản ===\n",
      "Hỗ trợ các phép toán: +, -, *, /\n",
      "Kết quả: 12.0 / 3.0 = 4.0\n"
     ]
    }
   ],
   "source": [
    "def simple_calculator():\n",
    "    print(\"=== Máy tính đơn giản ===\")\n",
    "    print(\"Hỗ trợ các phép toán: +, -, *, /\")\n",
    "    \n",
    "    while True:\n",
    "        try:\n",
    "            # Nhập số thứ nhất\n",
    "            num1 = float(input(\"Nhập số thứ nhất: \"))\n",
    "            \n",
    "            # Nhập số thứ hai\n",
    "            num2 = float(input(\"Nhập số thứ hai: \"))\n",
    "            \n",
    "            # Nhập phép toán\n",
    "            operator = input(\"Nhập phép toán (+, -, *, /): \").strip()\n",
    "            \n",
    "            # Thực hiện phép tính\n",
    "            if operator == '+':\n",
    "                result = num1 + num2\n",
    "            elif operator == '-':\n",
    "                result = num1 - num2\n",
    "            elif operator == '*':\n",
    "                result = num1 * num2\n",
    "            elif operator == '/':\n",
    "                if num2 == 0:\n",
    "                    raise ZeroDivisionError(\"Không thể chia cho 0!\")\n",
    "                result = num1 / num2\n",
    "            else:\n",
    "                raise ValueError(f\"Phép toán '{operator}' không hợp lệ!\")\n",
    "            \n",
    "            print(f\"Kết quả: {num1} {operator} {num2} = {result}\")\n",
    "            break  # Thoát nếu thành công\n",
    "            \n",
    "        except ValueError as ve:\n",
    "            if \"could not convert\" in str(ve):\n",
    "                print(\"❌ Lỗi: Vui lòng nhập một số hợp lệ!\")\n",
    "            else:\n",
    "                print(f\"❌ Lỗi: {ve}\")\n",
    "        except ZeroDivisionError as zde:\n",
    "            print(f\"❌ Lỗi: {zde}\")\n",
    "        except Exception as e:\n",
    "            print(f\"❌ Lỗi không mong muốn: {e}\")\n",
    "        \n",
    "        print(\"Vui lòng thử lại.\\n\")\n",
    "\n",
    "# Chạy chương trình\n",
    "if __name__ == \"__main__\":\n",
    "    simple_calculator()"
   ]
  },
  {
   "cell_type": "code",
   "execution_count": 7,
   "id": "c2807165",
   "metadata": {},
   "outputs": [],
   "source": [
    "def square(n): return n*n\n",
    "def main():\n",
    "    test_square()\n",
    "def test_square():\n",
    "    assert square(2) == 4\n",
    "    assert square(3) == 9\n",
    "if __name__ == \"__main__\":\n",
    "    main()"
   ]
  }
 ],
 "metadata": {
  "kernelspec": {
   "display_name": "Python 3",
   "language": "python",
   "name": "python3"
  },
  "language_info": {
   "codemirror_mode": {
    "name": "ipython",
    "version": 3
   },
   "file_extension": ".py",
   "mimetype": "text/x-python",
   "name": "python",
   "nbconvert_exporter": "python",
   "pygments_lexer": "ipython3",
   "version": "3.10.0"
  }
 },
 "nbformat": 4,
 "nbformat_minor": 5
}
