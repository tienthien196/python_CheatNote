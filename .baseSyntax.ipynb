{
 "cells": [
  {
   "cell_type": "markdown",
   "id": "ac75fd48",
   "metadata": {},
   "source": [
    "### *arg và **karg\n",
    "\n",
    "- *arg: như truyền arr - **karg: truyền như dict\n",
    "- dùng để truyền vào hàm \n",
    "- khi chúng chauw đc gom lại data cáu trúc \n",
    "---"
   ]
  },
  {
   "cell_type": "code",
   "execution_count": null,
   "id": "485aecaf",
   "metadata": {},
   "outputs": [
    {
     "name": "stdout",
     "output_type": "stream",
     "text": [
      "hello 1\n",
      "hello 2\n",
      "hello 3\n",
      "hello 4\n",
      "hello 4\n",
      "a=1\n",
      "b=2\n",
      "c=3\n",
      "d=4\n"
     ]
    }
   ],
   "source": [
    "def func(*number):\n",
    "    for i in number: print(\"hello\", i)\n",
    "def func2(**data):\n",
    "    for k, v in data.items(): print(f\"{k}={v}\")\n",
    "\n",
    "func(1,2,3,4,4)\n",
    "func2(a=1,b=2,c=3,d=4)\n",
    "# --- IGNORE ---\n"
   ]
  },
  {
   "cell_type": "markdown",
   "id": "814c4fba",
   "metadata": {},
   "source": [
    "### Template 1: Đọc file text (an toàn với ngoại lệ)"
   ]
  },
  {
   "cell_type": "code",
   "execution_count": null,
   "id": "0517a98a",
   "metadata": {},
   "outputs": [],
   "source": [
    "def read_file(filename: str) -> str | None:\n",
    "    \"\"\"\n",
    "    Đọc nội dung từ file text.\n",
    "    Trả về nội dung (str) nếu thành công, None nếu có lỗi.\n",
    "    \"\"\"\n",
    "    try:\n",
    "        with open(filename, 'r', encoding='utf-8') as file:\n",
    "            content = file.read()\n",
    "            return content\n",
    "    except FileNotFoundError:\n",
    "        print(f\"❌ Lỗi: Không tìm thấy file '{filename}'.\")\n",
    "    except PermissionError:\n",
    "        print(f\"❌ Lỗi: Không có quyền đọc file '{filename}'.\")\n",
    "    except UnicodeDecodeError:\n",
    "        print(f\"❌ Lỗi: File '{filename}' không phải định dạng text UTF-8.\")\n",
    "    except Exception as e:\n",
    "        print(f\"❌ Lỗi không mong muốn khi đọc file: {e}\")\n",
    "    \n",
    "    return None  # Trả về None nếu có lỗi"
   ]
  },
  {
   "cell_type": "markdown",
   "id": "bcc5961a",
   "metadata": {},
   "source": [
    "### Template 2: Ghi dữ liệu vào file text (an toàn với ngoại lệ)"
   ]
  },
  {
   "cell_type": "code",
   "execution_count": 6,
   "id": "4d183ec6",
   "metadata": {},
   "outputs": [],
   "source": [
    "def write_file(filename: str, data: str, mode: str = 'w') -> bool:\n",
    "    \"\"\"\n",
    "    Ghi dữ liệu vào file text.\n",
    "    - mode: 'w' (ghi đè), 'a' (ghi thêm)\n",
    "    Trả về True nếu thành công, False nếu có lỗi.\n",
    "    \"\"\"\n",
    "    try:\n",
    "        with open(filename, mode, encoding='utf-8') as file:\n",
    "            file.write(data)\n",
    "            print(f\"✅ Đã ghi thành công vào file '{filename}'.\")\n",
    "            return True\n",
    "    except PermissionError:\n",
    "        print(f\"❌ Lỗi: Không có quyền ghi vào file '{filename}'.\")\n",
    "    except OSError as e:\n",
    "        print(f\"❌ Lỗi hệ thống khi ghi file: {e}\")\n",
    "    except Exception as e:\n",
    "        print(f\"❌ Lỗi không mong muốn khi ghi file: {e}\")\n",
    "    \n",
    "    return False  # Ghi thất bại"
   ]
  },
  {
   "cell_type": "markdown",
   "id": "9cab85e8",
   "metadata": {},
   "source": [
    " ### Template 3: Đọc & xử lý từng dòng (dùng cho file lớn)"
   ]
  },
  {
   "cell_type": "code",
   "execution_count": null,
   "id": "0eaad12f",
   "metadata": {
    "vscode": {
     "languageId": "groovy"
    }
   },
   "outputs": [],
   "source": [
    "def read_lines_safe(filename: str):\n",
    "    \"\"\"Đọc file từng dòng, xử lý an toàn.\"\"\"\n",
    "    try:\n",
    "        with open(filename, 'r', encoding='utf-8') as file:\n",
    "            for line_num, line in enumerate(file, 1):\n",
    "                line = line.strip()  # bỏ \\n, khoảng trắng 2 đầu\n",
    "                if line:  # bỏ dòng trống\n",
    "                    yield line_num, line  # trả về (số dòng, nội dung)\n",
    "    except FileNotFoundError:\n",
    "        print(f\"❌ Không tìm thấy file: {filename}\")\n",
    "    except Exception as e:\n",
    "        print(f\"❌ Lỗi khi đọc file theo dòng: {e}\")\n",
    "        \n",
    "def process_file(input_file: str, output_file: str):\n",
    "    \"\"\"Đọc file đầu vào, in hoa nội dung, ghi vào file đầu ra.\"\"\"\n",
    "    content = read_file(input_file)\n",
    "    if content is not None:\n",
    "        processed = content.upper()\n",
    "        write_file(output_file, processed)\n",
    "    else:\n",
    "        print(\"⚠️ Không thể xử lý vì file đầu vào bị lỗi.\")\n",
    "\n",
    "# Dùng thử\n",
    "process_file(\"input.txt\", \"output.txt\")"
   ]
  },
  {
   "cell_type": "markdown",
   "id": "f30d3236",
   "metadata": {},
   "source": []
  }
 ],
 "metadata": {
  "kernelspec": {
   "display_name": "Python 3",
   "language": "python",
   "name": "python3"
  },
  "language_info": {
   "codemirror_mode": {
    "name": "ipython",
    "version": 3
   },
   "file_extension": ".py",
   "mimetype": "text/x-python",
   "name": "python",
   "nbconvert_exporter": "python",
   "pygments_lexer": "ipython3",
   "version": "3.10.0"
  }
 },
 "nbformat": 4,
 "nbformat_minor": 5
}
