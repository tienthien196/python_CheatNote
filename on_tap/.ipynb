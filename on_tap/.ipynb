{
 "cells": [
  {
   "cell_type": "code",
   "execution_count": 1,
   "id": "405b07ab",
   "metadata": {},
   "outputs": [
    {
     "name": "stdout",
     "output_type": "stream",
     "text": [
      "5\n",
      "15\n",
      "4095\n",
      "2423\n",
      "0\n",
      "65535\n",
      "255\n",
      "0b11111111\n",
      "0o377\n",
      "0xff\n"
     ]
    }
   ],
   "source": [
    "#---Binary---nhị phân ----\n",
    "print(0b0101)\n",
    "print(0B1111)\n",
    "#---Octal ----bát phân ----\n",
    "print(0o7777)\n",
    "print(0O4567)\n",
    "\n",
    "# ---hexadecimal--thập lục phân\n",
    "print(0x0000)\n",
    "print(0XFFFF)\n",
    "\n",
    "#---Decimal ----hệ cơ số 10 \n",
    "x = 255\n",
    "print(x)           # 255 (thập phân)\n",
    "print(bin(x))      # 0b11111111\n",
    "print(oct(x))      # 0o377\n",
    "print(hex(x))      # 0xff"
   ]
  },
  {
   "cell_type": "code",
   "execution_count": 2,
   "id": "0b03ca4c",
   "metadata": {},
   "outputs": [
    {
     "name": "stdout",
     "output_type": "stream",
     "text": [
      "1000000\n",
      "6\n"
     ]
    }
   ],
   "source": [
    "# format hiển thị = underscope\n",
    "print(1_00_0000) # dùng để tách số >> hiển thị đẹp >> ko ảnh hưởng value\n",
    "print(0b01_10)"
   ]
  },
  {
   "cell_type": "code",
   "execution_count": 12,
   "id": "b64e3563",
   "metadata": {},
   "outputs": [
    {
     "name": "stdout",
     "output_type": "stream",
     "text": [
      "True\n",
      "False\n",
      "100000.0\n",
      "2000.0\n",
      "0.0025\n",
      "(3+4j)\n"
     ]
    }
   ],
   "source": [
    "# lưu ý  type annotation(chú thích kiểu ) ko hề ảnh hưởng đén runtime -> muon bắt lỗi dùng mypy\n",
    "i: int = 34.6798 # out float vì chú thích kiểu không ảnh hưởng\n",
    "\n",
    "# Floating-point arithmetic limitations\n",
    "# IEEE 754 representation error\n",
    "# Binary floating-point inaccuracy\n",
    "# Decimal fraction representation problem\n",
    "print((1.2+0.3)== 1.5)\n",
    "print(0.1+0.2== 0.3)\n",
    "\n",
    "\n",
    "# pythonic float\n",
    "f:float = 1e2\n",
    "# lưu ý  :numeric literals , các e, E đều là float >> exponent(cơ số mũ)\n",
    "print(1E5) # out  1*10^5\n",
    "print(2e3) # out 2*10^3\n",
    "print(2.5E-3) # 2.5*10^-3\n",
    "#--- complex----\n",
    "v: complex = 3+4j; print(v)\n",
    "# Số phức không so sánh được"
   ]
  },
  {
   "cell_type": "code",
   "execution_count": null,
   "id": "2895946c",
   "metadata": {},
   "outputs": [
    {
     "name": "stdout",
     "output_type": "stream",
     "text": [
      "6\n"
     ]
    }
   ],
   "source": [
    "#----Gán ----- >> value tương ứng\n",
    "x1 = 6; print(x1); x1 = [1,2,3,4]\n",
    "o1 = x1 = 5 #  thay đổi 1 ảnh hưởng 2\n",
    "o1 += 5\n",
    "o1 -= 5\n",
    "o1 *= 5\n",
    "o1 /= 5\n",
    "o1 %= 5\n",
    "o1 //=5\n",
    "o1 **=5\n"
   ]
  },
  {
   "cell_type": "code",
   "execution_count": 15,
   "id": "d69bd998",
   "metadata": {},
   "outputs": [
    {
     "data": {
      "text/plain": [
       "False"
      ]
     },
     "execution_count": 15,
     "metadata": {},
     "output_type": "execute_result"
    }
   ],
   "source": [
    "#---toán tử so sánh --- >> True / False\n",
    "1 < 6 < 100 # pythonic\n",
    "5 == 5\n",
    "5 != 3\n",
    "5 > 3\n",
    "5 < 3\n",
    "5 >= 3\n",
    "5 <= 3"
   ]
  },
  {
   "cell_type": "code",
   "execution_count": 19,
   "id": "f68e91ff",
   "metadata": {},
   "outputs": [
    {
     "name": "stdout",
     "output_type": "stream",
     "text": [
      "\n",
      "hi>>:\n",
      "[1]\n",
      "hello\n",
      "None\n"
     ]
    },
    {
     "data": {
      "text/plain": [
       "False"
      ]
     },
     "execution_count": 19,
     "metadata": {},
     "output_type": "execute_result"
    }
   ],
   "source": [
    "# ---toán tử logic  ---- >> value \n",
    "print([] or \"\") # -> []\n",
    "print(\"hi>>:\" or [1,2] or \"hello>>\")  # → hi: \n",
    "print(\"\" or [] or [1])   # → [1] (vì \"\" và [] đều falsy)\n",
    "# return true đầu tiên  or flase cuối cùng nếu ko có true nào\n",
    "\n",
    "print([1,2] and \"hello\") # >hello\n",
    "print(None and []) # None\n",
    "# return true cuối or flase đầu tiên\n",
    "c2 = input(\"can !!!\")\n",
    "c2 is bool # is là check 2 biến có cùng trỏ 1 ô nhớ ko ? Trừ x is None\n",
    "#tránh sử dụng //vì python có cơ chế interning cache 0-256\n",
    "if x is None :...\n",
    "if x == None : ... #\n",
    "# nên dùng check này \n",
    "isinstance(c2, bool) # check xem biến có thuộc class hay kh ?\n",
    "c2 in [] # in check thành viên có trong iterable "
   ]
  },
  {
   "cell_type": "code",
   "execution_count": 22,
   "id": "66404e2f",
   "metadata": {},
   "outputs": [
    {
     "data": {
      "text/plain": [
       "2"
      ]
     },
     "execution_count": 22,
     "metadata": {},
     "output_type": "execute_result"
    }
   ],
   "source": [
    "# --- bitwise --- >> bit của số nguyên\n",
    "# [1,2] & [3] >> lỗi bitwise không dùng cho list >> chỉ dùng cho int và bool\n",
    "# 5 = 101 , 3 = 011, 5 & 3 >> 001 >> out -> 1\n",
    "# 5 | 3 >> 111 > out -> 7\n",
    "# NOT bit(đảo bit) ~5 >> ~n = -(n+1)>> out -> -6 \n",
    "# ~-6 >> out -> 5\n",
    "\n",
    "5 << 1  # 5 * 2^1 = 10 >>[x *  2ⁿ]\n",
    "5 << 2  # 5 * 4 = 20 \n",
    "# 5 = 101 5 << 1 = 1010 → 10\n",
    "\n",
    "10 >> 1  # 10 // 2 = 5 >> [x / 2ⁿ]\n",
    "10 >> 2  # 10 // 4 = 2\n",
    "# print(10 >> 1)  # → 5\n",
    "# print(-10 >> 1) # → -5 (Python giữ dấu)\n",
    "\n",
    "#XOR = not and  Exclusive OR\n",
    "#giao hoán xor a ^ b == b ^ a  , (a ^ b) ^ c == a ^ (b ^ c) , a ^ a == 0, a ^ 0 == a\n",
    "# Khả nghịch: if c = a ^ b -> a = c ^ b , b = c ^ a\n",
    "\n",
    "\n",
    "# if x & 1:      # kiểm tra x có lẻ không → đúng\n",
    "# if x and 1:    # luôn True nếu x ≠ 0 → KHÔNG phải kiểm tra bit!\n",
    "\n",
    "\n",
    "# READ = 4   # 100\n",
    "# WRITE = 2  # 010\n",
    "# EXEC = 1   # 001\n",
    "\n",
    "# permission = READ | WRITE  # 110 → có quyền đọc và ghi\n",
    "\n",
    "# if permission & READ:\n",
    "#     print(\"Có quyền đọc\")\n",
    "\n",
    "# ---hoán đổi xor ko cần trung gian--\n",
    "# a = 5\n",
    "# b = 9\n",
    "# a = a ^ b  # a = 5 ^ 9\n",
    "# b = a ^ b  # b = (5 ^ 9) ^ 9 = 5\n",
    "# a = a ^ b  # a = (5 ^ 9) ^ 5 = 9\n",
    "\n",
    "# print(a, b)  # → 9 5\n",
    "\n",
    "# nums = [4, 1, 2, 1, 2]\n",
    "\n",
    "# result = 0\n",
    "# for x in nums:\n",
    "#     result ^= x\n",
    "\n",
    "# print(result)  # → 4\n",
    "\n",
    "# message = \"Hello\"\n",
    "# key = 42\n",
    "\n",
    "# # Mã hóa: XOR từng ký tự với key\n",
    "# encoded = [ord(c) ^ key for c in message]\n",
    "# print(\"Encoded:\", encoded)\n",
    "\n",
    "# # Giải mã: XOR lại với key\n",
    "# decoded = ''.join(chr(b ^ key) for b in encoded)\n",
    "# print(\"Decoded:\", decoded)  # → \"Hello\"\n",
    "\n",
    "# def same_sign(a, b):\n",
    "#     return (a ^ b) >= 0\n",
    "\n",
    "# print(same_sign(5, 3))   # True\n",
    "# print(same_sign(-5, 3))  # False"
   ]
  }
 ],
 "metadata": {
  "kernelspec": {
   "display_name": "Python 3",
   "language": "python",
   "name": "python3"
  },
  "language_info": {
   "codemirror_mode": {
    "name": "ipython",
    "version": 3
   },
   "file_extension": ".py",
   "mimetype": "text/x-python",
   "name": "python",
   "nbconvert_exporter": "python",
   "pygments_lexer": "ipython3",
   "version": "3.10.0"
  }
 },
 "nbformat": 4,
 "nbformat_minor": 5
}
